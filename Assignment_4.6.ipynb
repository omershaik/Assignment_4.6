{
 "cells": [
  {
   "cell_type": "markdown",
   "metadata": {},
   "source": [
    "##Two balls are drawn at random in succession without replacement from an urn\n",
    "containing 4 red balls and 6 black balls.\n",
    "Find the probabilities of all the possible outcomes."
   ]
  },
  {
   "cell_type": "markdown",
   "metadata": {},
   "source": [
    "Probabilities of all possible outcomes.\n",
    "\n",
    "         events              Probability\n",
    "       Red & Red          (4/10)(3/9) = 2/15\n",
    "       Red & Black        (4/10)(6/9) = 4/15\n",
    "       Black & Red        (6/10)(4/9) = 4/15 \n",
    "       Black & Black      (6/10)(5/9) = 1/3\n",
    "\n",
    "The probability of 0 Black balls (RR)is 2/15\n",
    "\n",
    "The probability of 1 Black ball is (RB or BR) is 4/15+4/15 = 8/15\n",
    "\n",
    "The probability of 2 Black balls (BB) is 1/3\n"
   ]
  },
  {
   "cell_type": "code",
   "execution_count": null,
   "metadata": {},
   "outputs": [],
   "source": []
  }
 ],
 "metadata": {
  "kernelspec": {
   "display_name": "Python 3",
   "language": "python",
   "name": "python3"
  },
  "language_info": {
   "codemirror_mode": {
    "name": "ipython",
    "version": 3
   },
   "file_extension": ".py",
   "mimetype": "text/x-python",
   "name": "python",
   "nbconvert_exporter": "python",
   "pygments_lexer": "ipython3",
   "version": "3.6.4"
  }
 },
 "nbformat": 4,
 "nbformat_minor": 2
}
